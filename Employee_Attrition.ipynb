{
  "nbformat": 4,
  "nbformat_minor": 0,
  "metadata": {
    "colab": {
      "provenance": []
    },
    "kernelspec": {
      "name": "python3",
      "display_name": "Python 3"
    },
    "language_info": {
      "name": "python"
    }
  },
  "cells": [
    {
      "cell_type": "markdown",
      "source": [
        "![images (2).jfif](data:image/jpeg;base64,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)"
      ],
      "metadata": {
        "id": "NsHm9Fk9rjGQ"
      }
    },
    {
      "cell_type": "markdown",
      "source": [
        "#**Employee Attrition**"
      ],
      "metadata": {
        "id": "3l5XqAd6rqWn"
      }
    },
    {
      "cell_type": "code",
      "source": [
        "# Step 1 : import library\n",
        "import pandas as pd"
      ],
      "metadata": {
        "id": "VZaXAmMWr4AC"
      },
      "execution_count": 1,
      "outputs": []
    },
    {
      "cell_type": "code",
      "source": [
        "# Step 2 : import data\n",
        "Employee = pd.read_csv('https://raw.githubusercontent.com/YBI-Foundation/Dataset/main/EmployeeAttrition.csv')"
      ],
      "metadata": {
        "id": "TZXtlmVasDal"
      },
      "execution_count": 2,
      "outputs": []
    },
    {
      "cell_type": "code",
      "source": [
        "Employee.head()"
      ],
      "metadata": {
        "colab": {
          "base_uri": "https://localhost:8080/",
          "height": 369
        },
        "id": "l5NcJoP3vfRY",
        "outputId": "e9571163-7219-412b-cee8-1f1707ab65f2"
      },
      "execution_count": 3,
      "outputs": [
        {
          "output_type": "execute_result",
          "data": {
            "text/plain": [
              "   Age Attrition     BusinessTravel  DailyRate              Department  \\\n",
              "0   41       Yes      Travel_Rarely       1102                   Sales   \n",
              "1   49        No  Travel_Frequently        279  Research & Development   \n",
              "2   37       Yes      Travel_Rarely       1373  Research & Development   \n",
              "3   33        No  Travel_Frequently       1392  Research & Development   \n",
              "4   27        No      Travel_Rarely        591  Research & Development   \n",
              "\n",
              "   DistanceFromHome  Education EducationField  EmployeeCount  EmployeeNumber  \\\n",
              "0                 1          2  Life Sciences              1               1   \n",
              "1                 8          1  Life Sciences              1               2   \n",
              "2                 2          2          Other              1               4   \n",
              "3                 3          4  Life Sciences              1               5   \n",
              "4                 2          1        Medical              1               7   \n",
              "\n",
              "   ...  RelationshipSatisfaction StandardHours  StockOptionLevel  \\\n",
              "0  ...                         1            80                 0   \n",
              "1  ...                         4            80                 1   \n",
              "2  ...                         2            80                 0   \n",
              "3  ...                         3            80                 0   \n",
              "4  ...                         4            80                 1   \n",
              "\n",
              "   TotalWorkingYears  TrainingTimesLastYear WorkLifeBalance  YearsAtCompany  \\\n",
              "0                  8                      0               1               6   \n",
              "1                 10                      3               3              10   \n",
              "2                  7                      3               3               0   \n",
              "3                  8                      3               3               8   \n",
              "4                  6                      3               3               2   \n",
              "\n",
              "  YearsInCurrentRole  YearsSinceLastPromotion  YearsWithCurrManager  \n",
              "0                  4                        0                     5  \n",
              "1                  7                        1                     7  \n",
              "2                  0                        0                     0  \n",
              "3                  7                        3                     0  \n",
              "4                  2                        2                     2  \n",
              "\n",
              "[5 rows x 35 columns]"
            ],
            "text/html": [
              "\n",
              "  <div id=\"df-03031ae9-8f36-43e9-befd-c829ccd5ecb8\">\n",
              "    <div class=\"colab-df-container\">\n",
              "      <div>\n",
              "<style scoped>\n",
              "    .dataframe tbody tr th:only-of-type {\n",
              "        vertical-align: middle;\n",
              "    }\n",
              "\n",
              "    .dataframe tbody tr th {\n",
              "        vertical-align: top;\n",
              "    }\n",
              "\n",
              "    .dataframe thead th {\n",
              "        text-align: right;\n",
              "    }\n",
              "</style>\n",
              "<table border=\"1\" class=\"dataframe\">\n",
              "  <thead>\n",
              "    <tr style=\"text-align: right;\">\n",
              "      <th></th>\n",
              "      <th>Age</th>\n",
              "      <th>Attrition</th>\n",
              "      <th>BusinessTravel</th>\n",
              "      <th>DailyRate</th>\n",
              "      <th>Department</th>\n",
              "      <th>DistanceFromHome</th>\n",
              "      <th>Education</th>\n",
              "      <th>EducationField</th>\n",
              "      <th>EmployeeCount</th>\n",
              "      <th>EmployeeNumber</th>\n",
              "      <th>...</th>\n",
              "      <th>RelationshipSatisfaction</th>\n",
              "      <th>StandardHours</th>\n",
              "      <th>StockOptionLevel</th>\n",
              "      <th>TotalWorkingYears</th>\n",
              "      <th>TrainingTimesLastYear</th>\n",
              "      <th>WorkLifeBalance</th>\n",
              "      <th>YearsAtCompany</th>\n",
              "      <th>YearsInCurrentRole</th>\n",
              "      <th>YearsSinceLastPromotion</th>\n",
              "      <th>YearsWithCurrManager</th>\n",
              "    </tr>\n",
              "  </thead>\n",
              "  <tbody>\n",
              "    <tr>\n",
              "      <th>0</th>\n",
              "      <td>41</td>\n",
              "      <td>Yes</td>\n",
              "      <td>Travel_Rarely</td>\n",
              "      <td>1102</td>\n",
              "      <td>Sales</td>\n",
              "      <td>1</td>\n",
              "      <td>2</td>\n",
              "      <td>Life Sciences</td>\n",
              "      <td>1</td>\n",
              "      <td>1</td>\n",
              "      <td>...</td>\n",
              "      <td>1</td>\n",
              "      <td>80</td>\n",
              "      <td>0</td>\n",
              "      <td>8</td>\n",
              "      <td>0</td>\n",
              "      <td>1</td>\n",
              "      <td>6</td>\n",
              "      <td>4</td>\n",
              "      <td>0</td>\n",
              "      <td>5</td>\n",
              "    </tr>\n",
              "    <tr>\n",
              "      <th>1</th>\n",
              "      <td>49</td>\n",
              "      <td>No</td>\n",
              "      <td>Travel_Frequently</td>\n",
              "      <td>279</td>\n",
              "      <td>Research &amp; Development</td>\n",
              "      <td>8</td>\n",
              "      <td>1</td>\n",
              "      <td>Life Sciences</td>\n",
              "      <td>1</td>\n",
              "      <td>2</td>\n",
              "      <td>...</td>\n",
              "      <td>4</td>\n",
              "      <td>80</td>\n",
              "      <td>1</td>\n",
              "      <td>10</td>\n",
              "      <td>3</td>\n",
              "      <td>3</td>\n",
              "      <td>10</td>\n",
              "      <td>7</td>\n",
              "      <td>1</td>\n",
              "      <td>7</td>\n",
              "    </tr>\n",
              "    <tr>\n",
              "      <th>2</th>\n",
              "      <td>37</td>\n",
              "      <td>Yes</td>\n",
              "      <td>Travel_Rarely</td>\n",
              "      <td>1373</td>\n",
              "      <td>Research &amp; Development</td>\n",
              "      <td>2</td>\n",
              "      <td>2</td>\n",
              "      <td>Other</td>\n",
              "      <td>1</td>\n",
              "      <td>4</td>\n",
              "      <td>...</td>\n",
              "      <td>2</td>\n",
              "      <td>80</td>\n",
              "      <td>0</td>\n",
              "      <td>7</td>\n",
              "      <td>3</td>\n",
              "      <td>3</td>\n",
              "      <td>0</td>\n",
              "      <td>0</td>\n",
              "      <td>0</td>\n",
              "      <td>0</td>\n",
              "    </tr>\n",
              "    <tr>\n",
              "      <th>3</th>\n",
              "      <td>33</td>\n",
              "      <td>No</td>\n",
              "      <td>Travel_Frequently</td>\n",
              "      <td>1392</td>\n",
              "      <td>Research &amp; Development</td>\n",
              "      <td>3</td>\n",
              "      <td>4</td>\n",
              "      <td>Life Sciences</td>\n",
              "      <td>1</td>\n",
              "      <td>5</td>\n",
              "      <td>...</td>\n",
              "      <td>3</td>\n",
              "      <td>80</td>\n",
              "      <td>0</td>\n",
              "      <td>8</td>\n",
              "      <td>3</td>\n",
              "      <td>3</td>\n",
              "      <td>8</td>\n",
              "      <td>7</td>\n",
              "      <td>3</td>\n",
              "      <td>0</td>\n",
              "    </tr>\n",
              "    <tr>\n",
              "      <th>4</th>\n",
              "      <td>27</td>\n",
              "      <td>No</td>\n",
              "      <td>Travel_Rarely</td>\n",
              "      <td>591</td>\n",
              "      <td>Research &amp; Development</td>\n",
              "      <td>2</td>\n",
              "      <td>1</td>\n",
              "      <td>Medical</td>\n",
              "      <td>1</td>\n",
              "      <td>7</td>\n",
              "      <td>...</td>\n",
              "      <td>4</td>\n",
              "      <td>80</td>\n",
              "      <td>1</td>\n",
              "      <td>6</td>\n",
              "      <td>3</td>\n",
              "      <td>3</td>\n",
              "      <td>2</td>\n",
              "      <td>2</td>\n",
              "      <td>2</td>\n",
              "      <td>2</td>\n",
              "    </tr>\n",
              "  </tbody>\n",
              "</table>\n",
              "<p>5 rows × 35 columns</p>\n",
              "</div>\n",
              "      <button class=\"colab-df-convert\" onclick=\"convertToInteractive('df-03031ae9-8f36-43e9-befd-c829ccd5ecb8')\"\n",
              "              title=\"Convert this dataframe to an interactive table.\"\n",
              "              style=\"display:none;\">\n",
              "        \n",
              "  <svg xmlns=\"http://www.w3.org/2000/svg\" height=\"24px\"viewBox=\"0 0 24 24\"\n",
              "       width=\"24px\">\n",
              "    <path d=\"M0 0h24v24H0V0z\" fill=\"none\"/>\n",
              "    <path d=\"M18.56 5.44l.94 2.06.94-2.06 2.06-.94-2.06-.94-.94-2.06-.94 2.06-2.06.94zm-11 1L8.5 8.5l.94-2.06 2.06-.94-2.06-.94L8.5 2.5l-.94 2.06-2.06.94zm10 10l.94 2.06.94-2.06 2.06-.94-2.06-.94-.94-2.06-.94 2.06-2.06.94z\"/><path d=\"M17.41 7.96l-1.37-1.37c-.4-.4-.92-.59-1.43-.59-.52 0-1.04.2-1.43.59L10.3 9.45l-7.72 7.72c-.78.78-.78 2.05 0 2.83L4 21.41c.39.39.9.59 1.41.59.51 0 1.02-.2 1.41-.59l7.78-7.78 2.81-2.81c.8-.78.8-2.07 0-2.86zM5.41 20L4 18.59l7.72-7.72 1.47 1.35L5.41 20z\"/>\n",
              "  </svg>\n",
              "      </button>\n",
              "      \n",
              "  <style>\n",
              "    .colab-df-container {\n",
              "      display:flex;\n",
              "      flex-wrap:wrap;\n",
              "      gap: 12px;\n",
              "    }\n",
              "\n",
              "    .colab-df-convert {\n",
              "      background-color: #E8F0FE;\n",
              "      border: none;\n",
              "      border-radius: 50%;\n",
              "      cursor: pointer;\n",
              "      display: none;\n",
              "      fill: #1967D2;\n",
              "      height: 32px;\n",
              "      padding: 0 0 0 0;\n",
              "      width: 32px;\n",
              "    }\n",
              "\n",
              "    .colab-df-convert:hover {\n",
              "      background-color: #E2EBFA;\n",
              "      box-shadow: 0px 1px 2px rgba(60, 64, 67, 0.3), 0px 1px 3px 1px rgba(60, 64, 67, 0.15);\n",
              "      fill: #174EA6;\n",
              "    }\n",
              "\n",
              "    [theme=dark] .colab-df-convert {\n",
              "      background-color: #3B4455;\n",
              "      fill: #D2E3FC;\n",
              "    }\n",
              "\n",
              "    [theme=dark] .colab-df-convert:hover {\n",
              "      background-color: #434B5C;\n",
              "      box-shadow: 0px 1px 3px 1px rgba(0, 0, 0, 0.15);\n",
              "      filter: drop-shadow(0px 1px 2px rgba(0, 0, 0, 0.3));\n",
              "      fill: #FFFFFF;\n",
              "    }\n",
              "  </style>\n",
              "\n",
              "      <script>\n",
              "        const buttonEl =\n",
              "          document.querySelector('#df-03031ae9-8f36-43e9-befd-c829ccd5ecb8 button.colab-df-convert');\n",
              "        buttonEl.style.display =\n",
              "          google.colab.kernel.accessAllowed ? 'block' : 'none';\n",
              "\n",
              "        async function convertToInteractive(key) {\n",
              "          const element = document.querySelector('#df-03031ae9-8f36-43e9-befd-c829ccd5ecb8');\n",
              "          const dataTable =\n",
              "            await google.colab.kernel.invokeFunction('convertToInteractive',\n",
              "                                                     [key], {});\n",
              "          if (!dataTable) return;\n",
              "\n",
              "          const docLinkHtml = 'Like what you see? Visit the ' +\n",
              "            '<a target=\"_blank\" href=https://colab.research.google.com/notebooks/data_table.ipynb>data table notebook</a>'\n",
              "            + ' to learn more about interactive tables.';\n",
              "          element.innerHTML = '';\n",
              "          dataTable['output_type'] = 'display_data';\n",
              "          await google.colab.output.renderOutput(dataTable, element);\n",
              "          const docLink = document.createElement('div');\n",
              "          docLink.innerHTML = docLinkHtml;\n",
              "          element.appendChild(docLink);\n",
              "        }\n",
              "      </script>\n",
              "    </div>\n",
              "  </div>\n",
              "  "
            ]
          },
          "metadata": {},
          "execution_count": 3
        }
      ]
    },
    {
      "cell_type": "code",
      "source": [
        "Employee.info()"
      ],
      "metadata": {
        "colab": {
          "base_uri": "https://localhost:8080/"
        },
        "id": "BDNFWYxTvfa_",
        "outputId": "6dbf26a3-1558-4224-86d5-9fd16e42fa89"
      },
      "execution_count": 4,
      "outputs": [
        {
          "output_type": "stream",
          "name": "stdout",
          "text": [
            "<class 'pandas.core.frame.DataFrame'>\n",
            "RangeIndex: 1470 entries, 0 to 1469\n",
            "Data columns (total 35 columns):\n",
            " #   Column                    Non-Null Count  Dtype \n",
            "---  ------                    --------------  ----- \n",
            " 0   Age                       1470 non-null   int64 \n",
            " 1   Attrition                 1470 non-null   object\n",
            " 2   BusinessTravel            1470 non-null   object\n",
            " 3   DailyRate                 1470 non-null   int64 \n",
            " 4   Department                1470 non-null   object\n",
            " 5   DistanceFromHome          1470 non-null   int64 \n",
            " 6   Education                 1470 non-null   int64 \n",
            " 7   EducationField            1470 non-null   object\n",
            " 8   EmployeeCount             1470 non-null   int64 \n",
            " 9   EmployeeNumber            1470 non-null   int64 \n",
            " 10  EnvironmentSatisfaction   1470 non-null   int64 \n",
            " 11  Gender                    1470 non-null   object\n",
            " 12  HourlyRate                1470 non-null   int64 \n",
            " 13  JobInvolvement            1470 non-null   int64 \n",
            " 14  JobLevel                  1470 non-null   int64 \n",
            " 15  JobRole                   1470 non-null   object\n",
            " 16  JobSatisfaction           1470 non-null   int64 \n",
            " 17  MaritalStatus             1470 non-null   object\n",
            " 18  MonthlyIncome             1470 non-null   int64 \n",
            " 19  MonthlyRate               1470 non-null   int64 \n",
            " 20  NumCompaniesWorked        1470 non-null   int64 \n",
            " 21  Over18                    1470 non-null   object\n",
            " 22  OverTime                  1470 non-null   object\n",
            " 23  PercentSalaryHike         1470 non-null   int64 \n",
            " 24  PerformanceRating         1470 non-null   int64 \n",
            " 25  RelationshipSatisfaction  1470 non-null   int64 \n",
            " 26  StandardHours             1470 non-null   int64 \n",
            " 27  StockOptionLevel          1470 non-null   int64 \n",
            " 28  TotalWorkingYears         1470 non-null   int64 \n",
            " 29  TrainingTimesLastYear     1470 non-null   int64 \n",
            " 30  WorkLifeBalance           1470 non-null   int64 \n",
            " 31  YearsAtCompany            1470 non-null   int64 \n",
            " 32  YearsInCurrentRole        1470 non-null   int64 \n",
            " 33  YearsSinceLastPromotion   1470 non-null   int64 \n",
            " 34  YearsWithCurrManager      1470 non-null   int64 \n",
            "dtypes: int64(26), object(9)\n",
            "memory usage: 402.1+ KB\n"
          ]
        }
      ]
    },
    {
      "cell_type": "code",
      "source": [
        "Employee.describe()"
      ],
      "metadata": {
        "colab": {
          "base_uri": "https://localhost:8080/",
          "height": 394
        },
        "id": "u-gbSZm4vfs8",
        "outputId": "397927eb-8b6a-40ce-95ba-c76e4104c182"
      },
      "execution_count": 5,
      "outputs": [
        {
          "output_type": "execute_result",
          "data": {
            "text/plain": [
              "               Age    DailyRate  DistanceFromHome    Education  EmployeeCount  \\\n",
              "count  1470.000000  1470.000000       1470.000000  1470.000000         1470.0   \n",
              "mean     36.923810   802.485714          9.192517     2.912925            1.0   \n",
              "std       9.135373   403.509100          8.106864     1.024165            0.0   \n",
              "min      18.000000   102.000000          1.000000     1.000000            1.0   \n",
              "25%      30.000000   465.000000          2.000000     2.000000            1.0   \n",
              "50%      36.000000   802.000000          7.000000     3.000000            1.0   \n",
              "75%      43.000000  1157.000000         14.000000     4.000000            1.0   \n",
              "max      60.000000  1499.000000         29.000000     5.000000            1.0   \n",
              "\n",
              "       EmployeeNumber  EnvironmentSatisfaction   HourlyRate  JobInvolvement  \\\n",
              "count     1470.000000              1470.000000  1470.000000     1470.000000   \n",
              "mean      1024.865306                 2.721769    65.891156        2.729932   \n",
              "std        602.024335                 1.093082    20.329428        0.711561   \n",
              "min          1.000000                 1.000000    30.000000        1.000000   \n",
              "25%        491.250000                 2.000000    48.000000        2.000000   \n",
              "50%       1020.500000                 3.000000    66.000000        3.000000   \n",
              "75%       1555.750000                 4.000000    83.750000        3.000000   \n",
              "max       2068.000000                 4.000000   100.000000        4.000000   \n",
              "\n",
              "          JobLevel  ...  RelationshipSatisfaction  StandardHours  \\\n",
              "count  1470.000000  ...               1470.000000         1470.0   \n",
              "mean      2.063946  ...                  2.712245           80.0   \n",
              "std       1.106940  ...                  1.081209            0.0   \n",
              "min       1.000000  ...                  1.000000           80.0   \n",
              "25%       1.000000  ...                  2.000000           80.0   \n",
              "50%       2.000000  ...                  3.000000           80.0   \n",
              "75%       3.000000  ...                  4.000000           80.0   \n",
              "max       5.000000  ...                  4.000000           80.0   \n",
              "\n",
              "       StockOptionLevel  TotalWorkingYears  TrainingTimesLastYear  \\\n",
              "count       1470.000000        1470.000000            1470.000000   \n",
              "mean           0.793878          11.279592               2.799320   \n",
              "std            0.852077           7.780782               1.289271   \n",
              "min            0.000000           0.000000               0.000000   \n",
              "25%            0.000000           6.000000               2.000000   \n",
              "50%            1.000000          10.000000               3.000000   \n",
              "75%            1.000000          15.000000               3.000000   \n",
              "max            3.000000          40.000000               6.000000   \n",
              "\n",
              "       WorkLifeBalance  YearsAtCompany  YearsInCurrentRole  \\\n",
              "count      1470.000000     1470.000000         1470.000000   \n",
              "mean          2.761224        7.008163            4.229252   \n",
              "std           0.706476        6.126525            3.623137   \n",
              "min           1.000000        0.000000            0.000000   \n",
              "25%           2.000000        3.000000            2.000000   \n",
              "50%           3.000000        5.000000            3.000000   \n",
              "75%           3.000000        9.000000            7.000000   \n",
              "max           4.000000       40.000000           18.000000   \n",
              "\n",
              "       YearsSinceLastPromotion  YearsWithCurrManager  \n",
              "count              1470.000000           1470.000000  \n",
              "mean                  2.187755              4.123129  \n",
              "std                   3.222430              3.568136  \n",
              "min                   0.000000              0.000000  \n",
              "25%                   0.000000              2.000000  \n",
              "50%                   1.000000              3.000000  \n",
              "75%                   3.000000              7.000000  \n",
              "max                  15.000000             17.000000  \n",
              "\n",
              "[8 rows x 26 columns]"
            ],
            "text/html": [
              "\n",
              "  <div id=\"df-bcffcffd-e948-4e2f-8f59-c7393df2f797\">\n",
              "    <div class=\"colab-df-container\">\n",
              "      <div>\n",
              "<style scoped>\n",
              "    .dataframe tbody tr th:only-of-type {\n",
              "        vertical-align: middle;\n",
              "    }\n",
              "\n",
              "    .dataframe tbody tr th {\n",
              "        vertical-align: top;\n",
              "    }\n",
              "\n",
              "    .dataframe thead th {\n",
              "        text-align: right;\n",
              "    }\n",
              "</style>\n",
              "<table border=\"1\" class=\"dataframe\">\n",
              "  <thead>\n",
              "    <tr style=\"text-align: right;\">\n",
              "      <th></th>\n",
              "      <th>Age</th>\n",
              "      <th>DailyRate</th>\n",
              "      <th>DistanceFromHome</th>\n",
              "      <th>Education</th>\n",
              "      <th>EmployeeCount</th>\n",
              "      <th>EmployeeNumber</th>\n",
              "      <th>EnvironmentSatisfaction</th>\n",
              "      <th>HourlyRate</th>\n",
              "      <th>JobInvolvement</th>\n",
              "      <th>JobLevel</th>\n",
              "      <th>...</th>\n",
              "      <th>RelationshipSatisfaction</th>\n",
              "      <th>StandardHours</th>\n",
              "      <th>StockOptionLevel</th>\n",
              "      <th>TotalWorkingYears</th>\n",
              "      <th>TrainingTimesLastYear</th>\n",
              "      <th>WorkLifeBalance</th>\n",
              "      <th>YearsAtCompany</th>\n",
              "      <th>YearsInCurrentRole</th>\n",
              "      <th>YearsSinceLastPromotion</th>\n",
              "      <th>YearsWithCurrManager</th>\n",
              "    </tr>\n",
              "  </thead>\n",
              "  <tbody>\n",
              "    <tr>\n",
              "      <th>count</th>\n",
              "      <td>1470.000000</td>\n",
              "      <td>1470.000000</td>\n",
              "      <td>1470.000000</td>\n",
              "      <td>1470.000000</td>\n",
              "      <td>1470.0</td>\n",
              "      <td>1470.000000</td>\n",
              "      <td>1470.000000</td>\n",
              "      <td>1470.000000</td>\n",
              "      <td>1470.000000</td>\n",
              "      <td>1470.000000</td>\n",
              "      <td>...</td>\n",
              "      <td>1470.000000</td>\n",
              "      <td>1470.0</td>\n",
              "      <td>1470.000000</td>\n",
              "      <td>1470.000000</td>\n",
              "      <td>1470.000000</td>\n",
              "      <td>1470.000000</td>\n",
              "      <td>1470.000000</td>\n",
              "      <td>1470.000000</td>\n",
              "      <td>1470.000000</td>\n",
              "      <td>1470.000000</td>\n",
              "    </tr>\n",
              "    <tr>\n",
              "      <th>mean</th>\n",
              "      <td>36.923810</td>\n",
              "      <td>802.485714</td>\n",
              "      <td>9.192517</td>\n",
              "      <td>2.912925</td>\n",
              "      <td>1.0</td>\n",
              "      <td>1024.865306</td>\n",
              "      <td>2.721769</td>\n",
              "      <td>65.891156</td>\n",
              "      <td>2.729932</td>\n",
              "      <td>2.063946</td>\n",
              "      <td>...</td>\n",
              "      <td>2.712245</td>\n",
              "      <td>80.0</td>\n",
              "      <td>0.793878</td>\n",
              "      <td>11.279592</td>\n",
              "      <td>2.799320</td>\n",
              "      <td>2.761224</td>\n",
              "      <td>7.008163</td>\n",
              "      <td>4.229252</td>\n",
              "      <td>2.187755</td>\n",
              "      <td>4.123129</td>\n",
              "    </tr>\n",
              "    <tr>\n",
              "      <th>std</th>\n",
              "      <td>9.135373</td>\n",
              "      <td>403.509100</td>\n",
              "      <td>8.106864</td>\n",
              "      <td>1.024165</td>\n",
              "      <td>0.0</td>\n",
              "      <td>602.024335</td>\n",
              "      <td>1.093082</td>\n",
              "      <td>20.329428</td>\n",
              "      <td>0.711561</td>\n",
              "      <td>1.106940</td>\n",
              "      <td>...</td>\n",
              "      <td>1.081209</td>\n",
              "      <td>0.0</td>\n",
              "      <td>0.852077</td>\n",
              "      <td>7.780782</td>\n",
              "      <td>1.289271</td>\n",
              "      <td>0.706476</td>\n",
              "      <td>6.126525</td>\n",
              "      <td>3.623137</td>\n",
              "      <td>3.222430</td>\n",
              "      <td>3.568136</td>\n",
              "    </tr>\n",
              "    <tr>\n",
              "      <th>min</th>\n",
              "      <td>18.000000</td>\n",
              "      <td>102.000000</td>\n",
              "      <td>1.000000</td>\n",
              "      <td>1.000000</td>\n",
              "      <td>1.0</td>\n",
              "      <td>1.000000</td>\n",
              "      <td>1.000000</td>\n",
              "      <td>30.000000</td>\n",
              "      <td>1.000000</td>\n",
              "      <td>1.000000</td>\n",
              "      <td>...</td>\n",
              "      <td>1.000000</td>\n",
              "      <td>80.0</td>\n",
              "      <td>0.000000</td>\n",
              "      <td>0.000000</td>\n",
              "      <td>0.000000</td>\n",
              "      <td>1.000000</td>\n",
              "      <td>0.000000</td>\n",
              "      <td>0.000000</td>\n",
              "      <td>0.000000</td>\n",
              "      <td>0.000000</td>\n",
              "    </tr>\n",
              "    <tr>\n",
              "      <th>25%</th>\n",
              "      <td>30.000000</td>\n",
              "      <td>465.000000</td>\n",
              "      <td>2.000000</td>\n",
              "      <td>2.000000</td>\n",
              "      <td>1.0</td>\n",
              "      <td>491.250000</td>\n",
              "      <td>2.000000</td>\n",
              "      <td>48.000000</td>\n",
              "      <td>2.000000</td>\n",
              "      <td>1.000000</td>\n",
              "      <td>...</td>\n",
              "      <td>2.000000</td>\n",
              "      <td>80.0</td>\n",
              "      <td>0.000000</td>\n",
              "      <td>6.000000</td>\n",
              "      <td>2.000000</td>\n",
              "      <td>2.000000</td>\n",
              "      <td>3.000000</td>\n",
              "      <td>2.000000</td>\n",
              "      <td>0.000000</td>\n",
              "      <td>2.000000</td>\n",
              "    </tr>\n",
              "    <tr>\n",
              "      <th>50%</th>\n",
              "      <td>36.000000</td>\n",
              "      <td>802.000000</td>\n",
              "      <td>7.000000</td>\n",
              "      <td>3.000000</td>\n",
              "      <td>1.0</td>\n",
              "      <td>1020.500000</td>\n",
              "      <td>3.000000</td>\n",
              "      <td>66.000000</td>\n",
              "      <td>3.000000</td>\n",
              "      <td>2.000000</td>\n",
              "      <td>...</td>\n",
              "      <td>3.000000</td>\n",
              "      <td>80.0</td>\n",
              "      <td>1.000000</td>\n",
              "      <td>10.000000</td>\n",
              "      <td>3.000000</td>\n",
              "      <td>3.000000</td>\n",
              "      <td>5.000000</td>\n",
              "      <td>3.000000</td>\n",
              "      <td>1.000000</td>\n",
              "      <td>3.000000</td>\n",
              "    </tr>\n",
              "    <tr>\n",
              "      <th>75%</th>\n",
              "      <td>43.000000</td>\n",
              "      <td>1157.000000</td>\n",
              "      <td>14.000000</td>\n",
              "      <td>4.000000</td>\n",
              "      <td>1.0</td>\n",
              "      <td>1555.750000</td>\n",
              "      <td>4.000000</td>\n",
              "      <td>83.750000</td>\n",
              "      <td>3.000000</td>\n",
              "      <td>3.000000</td>\n",
              "      <td>...</td>\n",
              "      <td>4.000000</td>\n",
              "      <td>80.0</td>\n",
              "      <td>1.000000</td>\n",
              "      <td>15.000000</td>\n",
              "      <td>3.000000</td>\n",
              "      <td>3.000000</td>\n",
              "      <td>9.000000</td>\n",
              "      <td>7.000000</td>\n",
              "      <td>3.000000</td>\n",
              "      <td>7.000000</td>\n",
              "    </tr>\n",
              "    <tr>\n",
              "      <th>max</th>\n",
              "      <td>60.000000</td>\n",
              "      <td>1499.000000</td>\n",
              "      <td>29.000000</td>\n",
              "      <td>5.000000</td>\n",
              "      <td>1.0</td>\n",
              "      <td>2068.000000</td>\n",
              "      <td>4.000000</td>\n",
              "      <td>100.000000</td>\n",
              "      <td>4.000000</td>\n",
              "      <td>5.000000</td>\n",
              "      <td>...</td>\n",
              "      <td>4.000000</td>\n",
              "      <td>80.0</td>\n",
              "      <td>3.000000</td>\n",
              "      <td>40.000000</td>\n",
              "      <td>6.000000</td>\n",
              "      <td>4.000000</td>\n",
              "      <td>40.000000</td>\n",
              "      <td>18.000000</td>\n",
              "      <td>15.000000</td>\n",
              "      <td>17.000000</td>\n",
              "    </tr>\n",
              "  </tbody>\n",
              "</table>\n",
              "<p>8 rows × 26 columns</p>\n",
              "</div>\n",
              "      <button class=\"colab-df-convert\" onclick=\"convertToInteractive('df-bcffcffd-e948-4e2f-8f59-c7393df2f797')\"\n",
              "              title=\"Convert this dataframe to an interactive table.\"\n",
              "              style=\"display:none;\">\n",
              "        \n",
              "  <svg xmlns=\"http://www.w3.org/2000/svg\" height=\"24px\"viewBox=\"0 0 24 24\"\n",
              "       width=\"24px\">\n",
              "    <path d=\"M0 0h24v24H0V0z\" fill=\"none\"/>\n",
              "    <path d=\"M18.56 5.44l.94 2.06.94-2.06 2.06-.94-2.06-.94-.94-2.06-.94 2.06-2.06.94zm-11 1L8.5 8.5l.94-2.06 2.06-.94-2.06-.94L8.5 2.5l-.94 2.06-2.06.94zm10 10l.94 2.06.94-2.06 2.06-.94-2.06-.94-.94-2.06-.94 2.06-2.06.94z\"/><path d=\"M17.41 7.96l-1.37-1.37c-.4-.4-.92-.59-1.43-.59-.52 0-1.04.2-1.43.59L10.3 9.45l-7.72 7.72c-.78.78-.78 2.05 0 2.83L4 21.41c.39.39.9.59 1.41.59.51 0 1.02-.2 1.41-.59l7.78-7.78 2.81-2.81c.8-.78.8-2.07 0-2.86zM5.41 20L4 18.59l7.72-7.72 1.47 1.35L5.41 20z\"/>\n",
              "  </svg>\n",
              "      </button>\n",
              "      \n",
              "  <style>\n",
              "    .colab-df-container {\n",
              "      display:flex;\n",
              "      flex-wrap:wrap;\n",
              "      gap: 12px;\n",
              "    }\n",
              "\n",
              "    .colab-df-convert {\n",
              "      background-color: #E8F0FE;\n",
              "      border: none;\n",
              "      border-radius: 50%;\n",
              "      cursor: pointer;\n",
              "      display: none;\n",
              "      fill: #1967D2;\n",
              "      height: 32px;\n",
              "      padding: 0 0 0 0;\n",
              "      width: 32px;\n",
              "    }\n",
              "\n",
              "    .colab-df-convert:hover {\n",
              "      background-color: #E2EBFA;\n",
              "      box-shadow: 0px 1px 2px rgba(60, 64, 67, 0.3), 0px 1px 3px 1px rgba(60, 64, 67, 0.15);\n",
              "      fill: #174EA6;\n",
              "    }\n",
              "\n",
              "    [theme=dark] .colab-df-convert {\n",
              "      background-color: #3B4455;\n",
              "      fill: #D2E3FC;\n",
              "    }\n",
              "\n",
              "    [theme=dark] .colab-df-convert:hover {\n",
              "      background-color: #434B5C;\n",
              "      box-shadow: 0px 1px 3px 1px rgba(0, 0, 0, 0.15);\n",
              "      filter: drop-shadow(0px 1px 2px rgba(0, 0, 0, 0.3));\n",
              "      fill: #FFFFFF;\n",
              "    }\n",
              "  </style>\n",
              "\n",
              "      <script>\n",
              "        const buttonEl =\n",
              "          document.querySelector('#df-bcffcffd-e948-4e2f-8f59-c7393df2f797 button.colab-df-convert');\n",
              "        buttonEl.style.display =\n",
              "          google.colab.kernel.accessAllowed ? 'block' : 'none';\n",
              "\n",
              "        async function convertToInteractive(key) {\n",
              "          const element = document.querySelector('#df-bcffcffd-e948-4e2f-8f59-c7393df2f797');\n",
              "          const dataTable =\n",
              "            await google.colab.kernel.invokeFunction('convertToInteractive',\n",
              "                                                     [key], {});\n",
              "          if (!dataTable) return;\n",
              "\n",
              "          const docLinkHtml = 'Like what you see? Visit the ' +\n",
              "            '<a target=\"_blank\" href=https://colab.research.google.com/notebooks/data_table.ipynb>data table notebook</a>'\n",
              "            + ' to learn more about interactive tables.';\n",
              "          element.innerHTML = '';\n",
              "          dataTable['output_type'] = 'display_data';\n",
              "          await google.colab.output.renderOutput(dataTable, element);\n",
              "          const docLink = document.createElement('div');\n",
              "          docLink.innerHTML = docLinkHtml;\n",
              "          element.appendChild(docLink);\n",
              "        }\n",
              "      </script>\n",
              "    </div>\n",
              "  </div>\n",
              "  "
            ]
          },
          "metadata": {},
          "execution_count": 5
        }
      ]
    },
    {
      "cell_type": "code",
      "source": [
        "Employee.columns"
      ],
      "metadata": {
        "colab": {
          "base_uri": "https://localhost:8080/"
        },
        "id": "ff6k7H0NsDtp",
        "outputId": "721ab35d-4519-493e-9063-481e1b0dc797"
      },
      "execution_count": 6,
      "outputs": [
        {
          "output_type": "execute_result",
          "data": {
            "text/plain": [
              "Index(['Age', 'Attrition', 'BusinessTravel', 'DailyRate', 'Department',\n",
              "       'DistanceFromHome', 'Education', 'EducationField', 'EmployeeCount',\n",
              "       'EmployeeNumber', 'EnvironmentSatisfaction', 'Gender', 'HourlyRate',\n",
              "       'JobInvolvement', 'JobLevel', 'JobRole', 'JobSatisfaction',\n",
              "       'MaritalStatus', 'MonthlyIncome', 'MonthlyRate', 'NumCompaniesWorked',\n",
              "       'Over18', 'OverTime', 'PercentSalaryHike', 'PerformanceRating',\n",
              "       'RelationshipSatisfaction', 'StandardHours', 'StockOptionLevel',\n",
              "       'TotalWorkingYears', 'TrainingTimesLastYear', 'WorkLifeBalance',\n",
              "       'YearsAtCompany', 'YearsInCurrentRole', 'YearsSinceLastPromotion',\n",
              "       'YearsWithCurrManager'],\n",
              "      dtype='object')"
            ]
          },
          "metadata": {},
          "execution_count": 6
        }
      ]
    },
    {
      "cell_type": "code",
      "source": [
        "Employee.describe().columns"
      ],
      "metadata": {
        "colab": {
          "base_uri": "https://localhost:8080/"
        },
        "id": "g5H4ewzjyy2B",
        "outputId": "ab19c2ac-92af-4aa9-bc2e-0f3e52e0628e"
      },
      "execution_count": 7,
      "outputs": [
        {
          "output_type": "execute_result",
          "data": {
            "text/plain": [
              "Index(['Age', 'DailyRate', 'DistanceFromHome', 'Education', 'EmployeeCount',\n",
              "       'EmployeeNumber', 'EnvironmentSatisfaction', 'HourlyRate',\n",
              "       'JobInvolvement', 'JobLevel', 'JobSatisfaction', 'MonthlyIncome',\n",
              "       'MonthlyRate', 'NumCompaniesWorked', 'PercentSalaryHike',\n",
              "       'PerformanceRating', 'RelationshipSatisfaction', 'StandardHours',\n",
              "       'StockOptionLevel', 'TotalWorkingYears', 'TrainingTimesLastYear',\n",
              "       'WorkLifeBalance', 'YearsAtCompany', 'YearsInCurrentRole',\n",
              "       'YearsSinceLastPromotion', 'YearsWithCurrManager'],\n",
              "      dtype='object')"
            ]
          },
          "metadata": {},
          "execution_count": 7
        }
      ]
    },
    {
      "cell_type": "code",
      "source": [
        "# Step 3 : define y and X\n",
        "y = Employee['Attrition']\n",
        "X = Employee [['Age', 'DailyRate', 'DistanceFromHome', 'Education', 'EmployeeCount',\n",
        "       'EmployeeNumber', 'EnvironmentSatisfaction', 'HourlyRate',\n",
        "       'JobInvolvement', 'JobLevel', 'JobSatisfaction', 'MonthlyIncome',\n",
        "       'MonthlyRate', 'NumCompaniesWorked', 'PercentSalaryHike',\n",
        "       'PerformanceRating', 'RelationshipSatisfaction', 'StandardHours',\n",
        "       'StockOptionLevel', 'TotalWorkingYears', 'TrainingTimesLastYear',\n",
        "       'WorkLifeBalance', 'YearsAtCompany', 'YearsInCurrentRole',\n",
        "       'YearsSinceLastPromotion', 'YearsWithCurrManager']]"
      ],
      "metadata": {
        "id": "sPEl9WUIsD2D"
      },
      "execution_count": 8,
      "outputs": []
    },
    {
      "cell_type": "code",
      "source": [
        "# Step 4 : train test split\n",
        "from sklearn.model_selection import train_test_split\n",
        "X_train, X_test, y_train, y_test = train_test_split(X,y, train_size=0.7, random_state=2529)"
      ],
      "metadata": {
        "id": "8mV8_vAAsD-d"
      },
      "execution_count": 9,
      "outputs": []
    },
    {
      "cell_type": "code",
      "source": [
        "# check shape of train and test sample\n",
        "X_train.shape, X_test.shape, y_train.shape, y_test.shape"
      ],
      "metadata": {
        "colab": {
          "base_uri": "https://localhost:8080/"
        },
        "id": "0tf-lPtbsEDB",
        "outputId": "0d66c411-f47c-49ac-8779-a400dbbf63d4"
      },
      "execution_count": 10,
      "outputs": [
        {
          "output_type": "execute_result",
          "data": {
            "text/plain": [
              "((1029, 26), (441, 26), (1029,), (441,))"
            ]
          },
          "metadata": {},
          "execution_count": 10
        }
      ]
    },
    {
      "cell_type": "code",
      "source": [
        "# Step 5 : select model\n",
        "from sklearn.neighbors import KNeighborsClassifier\n",
        "model = KNeighborsClassifier()"
      ],
      "metadata": {
        "id": "7HHFZ1jgsEH8"
      },
      "execution_count": 11,
      "outputs": []
    },
    {
      "cell_type": "code",
      "source": [
        "# Step 6 : train or fit model\n",
        "model.fit(X_train,y_train)"
      ],
      "metadata": {
        "colab": {
          "base_uri": "https://localhost:8080/"
        },
        "id": "wImBlrJlsEM5",
        "outputId": "080199b4-11df-49f3-d0c2-9ffecc1318fc"
      },
      "execution_count": 12,
      "outputs": [
        {
          "output_type": "execute_result",
          "data": {
            "text/plain": [
              "KNeighborsClassifier()"
            ]
          },
          "metadata": {},
          "execution_count": 12
        }
      ]
    },
    {
      "cell_type": "code",
      "source": [
        "# Step 7 : predict model\n",
        "y_pred=model.predict(X_test)"
      ],
      "metadata": {
        "id": "VskYiykLsERO"
      },
      "execution_count": 13,
      "outputs": []
    },
    {
      "cell_type": "code",
      "source": [
        "# Step 8 : model accuracy\n",
        "from sklearn.metrics import accuracy_score, confusion_matrix, classification_report"
      ],
      "metadata": {
        "id": "6uPMg-XQsEVM"
      },
      "execution_count": 14,
      "outputs": []
    },
    {
      "cell_type": "code",
      "source": [
        "accuracy_score(y_test,y_pred)"
      ],
      "metadata": {
        "colab": {
          "base_uri": "https://localhost:8080/"
        },
        "id": "NQZ7kLP6sEZI",
        "outputId": "3d7bad47-7d6c-4287-ddd4-48ad704ddc7c"
      },
      "execution_count": 15,
      "outputs": [
        {
          "output_type": "execute_result",
          "data": {
            "text/plain": [
              "0.8344671201814059"
            ]
          },
          "metadata": {},
          "execution_count": 15
        }
      ]
    },
    {
      "cell_type": "code",
      "source": [
        "confusion_matrix(y_test,y_pred)"
      ],
      "metadata": {
        "colab": {
          "base_uri": "https://localhost:8080/"
        },
        "id": "3OJdoazdsEdH",
        "outputId": "fb54a79d-3116-48e3-d9cd-7e5729b63356"
      },
      "execution_count": 16,
      "outputs": [
        {
          "output_type": "execute_result",
          "data": {
            "text/plain": [
              "array([[363,  11],\n",
              "       [ 62,   5]])"
            ]
          },
          "metadata": {},
          "execution_count": 16
        }
      ]
    },
    {
      "cell_type": "code",
      "source": [
        "print(classification_report(y_test,y_pred))"
      ],
      "metadata": {
        "colab": {
          "base_uri": "https://localhost:8080/"
        },
        "id": "LtXdFZEfsEhf",
        "outputId": "026afb17-aa04-4fa3-e10c-88d2badd431f"
      },
      "execution_count": 17,
      "outputs": [
        {
          "output_type": "stream",
          "name": "stdout",
          "text": [
            "              precision    recall  f1-score   support\n",
            "\n",
            "          No       0.85      0.97      0.91       374\n",
            "         Yes       0.31      0.07      0.12        67\n",
            "\n",
            "    accuracy                           0.83       441\n",
            "   macro avg       0.58      0.52      0.51       441\n",
            "weighted avg       0.77      0.83      0.79       441\n",
            "\n"
          ]
        }
      ]
    },
    {
      "cell_type": "markdown",
      "source": [
        "![images (3).jfif](data:image/jpeg;base64,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)"
      ],
      "metadata": {
        "id": "2GSENSLc0ZnZ"
      }
    },
    {
      "cell_type": "markdown",
      "source": [
        "#**The accuracy of the model is 83%**"
      ],
      "metadata": {
        "id": "Q2D5Jrft0iS6"
      }
    }
  ]
}